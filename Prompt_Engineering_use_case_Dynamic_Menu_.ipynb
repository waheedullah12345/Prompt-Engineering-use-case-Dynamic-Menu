{
  "nbformat": 4,
  "nbformat_minor": 0,
  "metadata": {
    "colab": {
      "provenance": []
    },
    "kernelspec": {
      "name": "python3",
      "display_name": "Python 3"
    },
    "language_info": {
      "name": "python"
    }
  },
  "cells": [
    {
      "cell_type": "code",
      "source": [
        "menu_items = [\"Biryani\", \"Tea\", \"Coffee\", \"Burger\"]\n",
        "\n",
        "def menu():\n",
        "  print(\"Welcome to the menu selection program!\")\n",
        "  print(\"1. Display menu\")\n",
        "  print(\"2. Add item to menu\")\n",
        "  print(\"3. Remove item from menu\")\n",
        "  print(\"4. Exit\")\n",
        "  choice = int(input(\"Enter your choice: \"))\n",
        "  return choice\n",
        "\n",
        "def display_menu():\n",
        "  print(\"****** Menu ********\")\n",
        "  for index, item in enumerate(menu_items):\n",
        "    print(index + 1, \".\", item)\n",
        "\n",
        "def add_item():\n",
        "  item = input(\"Enter the name of the item: \")\n",
        "  menu_items.append(item)\n",
        "  print(\"Item added:\", item)\n",
        "\n",
        "def remove_item():\n",
        "  display_menu()\n",
        "  item_index = int(input(\"Enter the number of the item: \")) - 1\n",
        "  item = menu_items.pop(item_index)\n",
        "  print(\"Item removed:\", item)\n",
        "\n",
        "while True:\n",
        "  choice = menu()\n",
        "  if choice == 1:\n",
        "    display_menu()\n",
        "  elif choice == 2:\n",
        "    add_item()\n",
        "  elif choice == 3:\n",
        "    remove_item()\n",
        "  elif choice == 4:\n",
        "    break\n",
        "  else:\n",
        "       print(\"Invalid choice. Please try again.\")\n",
        "\n",
        "print(\"Thank you for using the menu selection program.\")"
      ],
      "metadata": {
        "colab": {
          "base_uri": "https://localhost:8080/"
        },
        "id": "1ZfXkGLa3wPE",
        "outputId": "76333f05-74a3-4f91-bc89-3660957f3eb2"
      },
      "execution_count": null,
      "outputs": [
        {
          "output_type": "stream",
          "name": "stdout",
          "text": [
            "Welcome to the menu selection program!\n",
            "1. Display menu\n",
            "2. Add item to menu\n",
            "3. Remove item from menu\n",
            "4. Exit\n",
            "Enter your choice: 1\n",
            "****** Menu ********\n",
            "1 . Biryani\n",
            "2 . Tea\n",
            "3 . Coffee\n",
            "4 . Burger\n",
            "Welcome to the menu selection program!\n",
            "1. Display menu\n",
            "2. Add item to menu\n",
            "3. Remove item from menu\n",
            "4. Exit\n",
            "Enter your choice: 2\n",
            "Enter the name of the item: pizza\n",
            "Item added: pizza\n",
            "Welcome to the menu selection program!\n",
            "1. Display menu\n",
            "2. Add item to menu\n",
            "3. Remove item from menu\n",
            "4. Exit\n",
            "Enter your choice: 1\n",
            "****** Menu ********\n",
            "1 . Biryani\n",
            "2 . Tea\n",
            "3 . Coffee\n",
            "4 . Burger\n",
            "5 . pizza\n",
            "Welcome to the menu selection program!\n",
            "1. Display menu\n",
            "2. Add item to menu\n",
            "3. Remove item from menu\n",
            "4. Exit\n"
          ]
        }
      ]
    },
    {
      "cell_type": "code",
      "source": [],
      "metadata": {
        "id": "DS7cnS8H3xvt"
      },
      "execution_count": null,
      "outputs": []
    },
    {
      "cell_type": "code",
      "source": [],
      "metadata": {
        "id": "1nIiPNW73xy_"
      },
      "execution_count": null,
      "outputs": []
    },
    {
      "cell_type": "code",
      "source": [],
      "metadata": {
        "id": "Yj-zYCQh3x11"
      },
      "execution_count": null,
      "outputs": []
    },
    {
      "cell_type": "code",
      "source": [],
      "metadata": {
        "id": "iFDwu_Fu3x5C"
      },
      "execution_count": null,
      "outputs": []
    }
  ]
}